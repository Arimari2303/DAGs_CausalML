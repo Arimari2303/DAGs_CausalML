{
 "cells": [
  {
   "cell_type": "markdown",
   "id": "1ba04517-d1c0-42a9-b599-1aad72efc586",
   "metadata": {},
   "source": [
    "# PART 1A - REAL LIFE EXAMPLES"
   ]
  },
  {
   "cell_type": "markdown",
   "id": "834240e3-3c24-4e72-870c-6b1fb0f6a96f",
   "metadata": {},
   "source": [
    "# 1. Factor de Confusión\n",
    "\n",
    "**Definición:**  \n",
    "Un confusor es una variable que afecta tanto a la variable explicativa (X) como a la variable de resultado (Y).  \n",
    "Si no se controla, genera una relación espuria o sesgada.\n",
    "\n",
    "**Ejemplo económico:**  \n",
    "- **X** = Años de educación  \n",
    "- **Y** = Ingreso mensual  \n",
    "- **C** = Nivel socioeconómico del hogar  \n",
    "\n",
    "**Explicación:**  \n",
    "El nivel socioeconómico afecta la posibilidad de estudiar (X) y también los ingresos futuros (Y).  \n",
    "Si no controlamos C, sobrestimamos el efecto puro de la educación en el ingreso."
   ]
  },
  {
   "cell_type": "code",
   "execution_count": 22,
   "id": "d07cf516-b687-4a32-bf26-15c19120ffc6",
   "metadata": {},
   "outputs": [
    {
     "name": "stdout",
     "output_type": "stream",
     "text": [
      "Ejemplo 1 (Confounder): C=Nivel socioeconómico, X=Años de educación, Y=Ingreso mensual.\n"
     ]
    },
    {
     "data": {
      "image/png": "[encoded data removed]",
      "text/plain": [
       "Plot with title \"Ejemplo 1: Confusor\""
      ]
     },
     "metadata": {
      "image/png": {
       "height": 420,
       "width": 420
      }
     },
     "output_type": "display_data"
    }
   ],
   "source": [
    "# =========================================================\n",
    "# 1) CONFOUNDer — Ejemplo económico\n",
    "#    C = Nivel socioeconómico; X = Años de educación; Y = Ingreso mensual\n",
    "#    Estructura: C -> X, C -> Y, X -> Y\n",
    "# =========================================================\n",
    "cat(\"Ejemplo 1 (Confounder): C=Nivel socioeconómico, X=Años de educación, Y=Ingreso mensual.\\n\")\n",
    "blank_canvas(\"Ejemplo 1: Confusor\")\n",
    "# posiciones\n",
    "pos <- list(C=c(0.2,1.6), X=c(1.0,0.4), Y=c(1.8,1.6))\n",
    "# nodos\n",
    "draw_node(pos$C[1], pos$C[2], \"C\")\n",
    "draw_node(pos$X[1], pos$X[2], \"X\")\n",
    "draw_node(pos$Y[1], pos$Y[2], \"Y\")\n",
    "# flechas\n",
    "draw_arrow(pos$C[1]+0.18, pos$C[2]-0.08, pos$X[1]-0.18, pos$X[2]+0.08)  # C->X\n",
    "draw_arrow(pos$C[1]+0.22, pos$C[2],      pos$Y[1]-0.22, pos$Y[2])        # C->Y\n",
    "draw_arrow(pos$X[1]+0.18, pos$X[2]+0.08, pos$Y[1]-0.18, pos$Y[2]-0.08)   # X->Y\n",
    "mtext(\"Donde: C=Nivel Socioeconómico; X=Años de Educación; Y=Ingreso Mensual\", side=1, line=3, cex=0.9, adj=0)"
   ]
  },
  {
   "cell_type": "markdown",
   "id": "ab824a31-8110-4036-ab88-bfa3dff230f1",
   "metadata": {},
   "source": [
    "# 2. Colisionador\n",
    "\n",
    "**Definición:**  \n",
    "Un colisionador es una variable que es efecto común de dos variables.  \n",
    "Si condicionamos en ella, abrimos un camino espurio entre X y Y.\n",
    "\n",
    "**Ejemplo económico:**  \n",
    "- **X** = Productividad individual  \n",
    "- **Y** = Acceso a redes sociales de élite  \n",
    "- **C** = Ser contratado en un banco de inversión  \n",
    "\n",
    "**Explicación:**  \n",
    "La contratación (C) depende tanto de la productividad (X) como de las redes (Y).  \n",
    "Si condicionamos en “haber sido contratado”, podemos inducir una correlación artificial entre productividad y redes, aunque no exista causalidad directa.\n"
   ]
  },
  {
   "cell_type": "code",
   "execution_count": 12,
   "id": "e7718c21-3886-4368-a729-06355b577b1f",
   "metadata": {},
   "outputs": [
    {
     "name": "stdout",
     "output_type": "stream",
     "text": [
      "Ejemplo 2 (Collider): X=Productividad, Y=Redes de élite, C=Contratado en banco.\n"
     ]
    },
    {
     "data": {
      "image/png": "[encoded data removed]",
      "text/plain": [
       "Plot with title \"Ejemplo 2: Colisionador\""
      ]
     },
     "metadata": {
      "image/png": {
       "height": 420,
       "width": 420
      }
     },
     "output_type": "display_data"
    }
   ],
   "source": [
    "# =========================================================\n",
    "# 2) COLLIDER — Ejemplo económico\n",
    "#    X = Productividad individual; Y = Redes sociales de élite; C = Contratado en banco\n",
    "#    Estructura: X -> C <- Y\n",
    "# =========================================================\n",
    "cat(\"Ejemplo 2 (Collider): X=Productividad, Y=Redes de élite, C=Contratado en banco.\\n\")\n",
    "blank_canvas(\"Ejemplo 2: Colisionador\")\n",
    "pos <- list(X=c(0.3,1.7), Y=c(1.7,1.7), C=c(1.0,0.5))\n",
    "draw_node(pos$X[1], pos$X[2], \"X\", col=\"#BDE7AE\")\n",
    "draw_node(pos$Y[1], pos$Y[2], \"Y\", col=\"#BDE7AE\")\n",
    "draw_node(pos$C[1], pos$C[2], \"C\", col=\"#BDE7AE\")\n",
    "draw_arrow(pos$X[1]+0.18, pos$X[2]-0.12, pos$C[1]-0.18, pos$C[2]+0.12)   # X->C\n",
    "draw_arrow(pos$Y[1]-0.18, pos$Y[2]-0.12, pos$C[1]+0.18, pos$C[2]+0.12)   # Y->C\n",
    "mtext(\"Donde: X=Productividad; Y=Redes de élite; C=Contratado en banco\", side=1, line=3, cex=0.9, adj=0)"
   ]
  },
  {
   "cell_type": "markdown",
   "id": "12f37b3f-de39-48ff-80e0-4a02db48b07b",
   "metadata": {},
   "source": [
    "# 3. Mediación\n",
    "\n",
    "**Definición:**  \n",
    "Una variable mediadora transmite parte del efecto de X sobre Y.\n",
    "\n",
    "**Ejemplo económico:**  \n",
    "- **X** = Inversión en infraestructura pública  \n",
    "- **M** = Productividad de las empresas  \n",
    "- **Y** = Crecimiento económico regional  \n",
    "\n",
    "**Explicación:**  \n",
    "La inversión pública (X) incrementa la productividad (M), y esta a su vez genera crecimiento económico (Y).  \n",
    "El efecto total se compone de un efecto directo (X → Y) y un efecto indirecto vía M."
   ]
  },
  {
   "cell_type": "code",
   "execution_count": 8,
   "id": "982c556a-1de2-42ef-8b13-c0959ed78426",
   "metadata": {},
   "outputs": [
    {
     "name": "stdout",
     "output_type": "stream",
     "text": [
      "Ejemplo 3 (Mediation): X=Inversión pública, M=Productividad empresarial, Y=Crecimiento económico.\n",
      "\n",
      "Listo: definiciones, 3 ejemplos y 3 gráficos generados.\n"
     ]
    },
    {
     "data": {
      "image/png": "[encoded data removed]",
      "text/plain": [
       "Plot with title \"Ejemplo 3: Mediación\""
      ]
     },
     "metadata": {
      "image/png": {
       "height": 420,
       "width": 420
      }
     },
     "output_type": "display_data"
    }
   ],
   "source": [
    "# =========================================================\n",
    "# 3) MEDIATION — Ejemplo económico\n",
    "#    X = Inversión pública; M = Productividad empresarial; Y = Crecimiento económico\n",
    "#    Estructura: X -> M -> Y (y posible efecto directo X -> Y)\n",
    "# =========================================================\n",
    "cat(\"Ejemplo 3 (Mediation): X=Inversión pública, M=Productividad empresarial, Y=Crecimiento económico.\\n\")\n",
    "blank_canvas(\"Ejemplo 3: Mediación\")\n",
    "pos <- list(X=c(0.3,1.6), M=c(1.0,0.5), Y=c(1.7,1.6))\n",
    "draw_node(pos$X[1], pos$X[2], \"X\", col=\"#FFC0BA\")\n",
    "draw_node(pos$M[1], pos$M[2], \"M\", col=\"#FFC0BA\")\n",
    "draw_node(pos$Y[1], pos$Y[2], \"Y\", col=\"#FFC0BA\")\n",
    "draw_arrow(pos$X[1]+0.18, pos$X[2]-0.12, pos$M[1]-0.18, pos$M[2]+0.12)   # X->M\n",
    "draw_arrow(pos$M[1]+0.18, pos$M[2]+0.12, pos$Y[1]-0.18, pos$Y[2]-0.12)   # M->Y\n",
    "draw_arrow(pos$X[1]+0.22, pos$X[2],      pos$Y[1]-0.22, pos$Y[2])        # X->Y directo (opcional)\n",
    "mtext(\"Donde: X=Inversión Pública; M=Productividad Empresas; Y=Crecimiento Económico\", side=1, line=3, cex=0.9, adj=0)\n",
    "\n",
    "cat(\"\\nListo: definiciones, 3 ejemplos y 3 gráficos generados.\\n\")"
   ]
  },
  {
   "cell_type": "code",
   "execution_count": null,
   "id": "04034549-d29b-42c6-8de5-fbf54e21bb68",
   "metadata": {},
   "outputs": [],
   "source": []
  }
 ],
 "metadata": {
  "kernelspec": {
   "display_name": "R [conda env:base] *",
   "language": "R",
   "name": "conda-base-r"
  },
  "language_info": {
   "codemirror_mode": "r",
   "file_extension": ".r",
   "mimetype": "text/x-r-source",
   "name": "R",
   "pygments_lexer": "r",
   "version": "4.1.3"
  }
 },
 "nbformat": 4,
 "nbformat_minor": 5
}
