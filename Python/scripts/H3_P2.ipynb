{
 "cells": [
  {
   "cell_type": "markdown",
   "id": "b88af1f4-7a6a-4c29-98bf-fd2bee6c20f5",
   "metadata": {},
   "source": [
    "# PART 2 - CAN WE OMIT SOME CONTROLS?"
   ]
  },
  {
   "cell_type": "markdown",
   "id": "37fe546f-ba6d-4944-8c63-08c7d714c22b",
   "metadata": {},
   "source": [
    "# Causal structure (todas las flechas con efecto verdadero = 1):\n",
    "1. X → Y\n",
    "2. Z1 → X,  Z1 → Y\n",
    "3. Z2 → X,  Z2 → Y\n",
    "4. Z3 → Z2, Z3 → Y"
   ]
  },
  {
   "cell_type": "code",
   "execution_count": 4,
   "id": "14f77797-bb3f-4ef9-9135-2231f488844c",
   "metadata": {},
   "outputs": [
    {
     "name": "stdout",
     "output_type": "stream",
     "text": [
      "Requirement already satisfied: statsmodels in c:\\users\\ariana\\anaconda3\\lib\\site-packages (0.14.2)\n",
      "Requirement already satisfied: numpy>=1.22.3 in c:\\users\\ariana\\anaconda3\\lib\\site-packages (from statsmodels) (1.26.4)\n",
      "Requirement already satisfied: scipy!=1.9.2,>=1.8 in c:\\users\\ariana\\anaconda3\\lib\\site-packages (from statsmodels) (1.13.1)\n",
      "Requirement already satisfied: pandas!=2.1.0,>=1.4 in c:\\users\\ariana\\anaconda3\\lib\\site-packages (from statsmodels) (2.3.0)\n",
      "Requirement already satisfied: patsy>=0.5.6 in c:\\users\\ariana\\anaconda3\\lib\\site-packages (from statsmodels) (0.5.6)\n",
      "Requirement already satisfied: packaging>=21.3 in c:\\users\\ariana\\anaconda3\\lib\\site-packages (from statsmodels) (24.1)\n",
      "Requirement already satisfied: python-dateutil>=2.8.2 in c:\\users\\ariana\\anaconda3\\lib\\site-packages (from pandas!=2.1.0,>=1.4->statsmodels) (2.9.0.post0)\n",
      "Requirement already satisfied: pytz>=2020.1 in c:\\users\\ariana\\anaconda3\\lib\\site-packages (from pandas!=2.1.0,>=1.4->statsmodels) (2024.1)\n",
      "Requirement already satisfied: tzdata>=2022.7 in c:\\users\\ariana\\anaconda3\\lib\\site-packages (from pandas!=2.1.0,>=1.4->statsmodels) (2023.3)\n",
      "Requirement already satisfied: six in c:\\users\\ariana\\anaconda3\\lib\\site-packages (from patsy>=0.5.6->statsmodels) (1.16.0)\n"
     ]
    }
   ],
   "source": [
    "!pip install statsmodels"
   ]
  },
  {
   "cell_type": "code",
   "execution_count": 6,
   "id": "88cf4647-69ba-4bdc-bdcd-baba4193b003",
   "metadata": {},
   "outputs": [
    {
     "name": "stdout",
     "output_type": "stream",
     "text": [
      "C:\\Users\\ARIANA\\anaconda3\\envs\\espacio_py39\\python.exe\n"
     ]
    }
   ],
   "source": [
    "import sys\n",
    "print(sys.executable)\n"
   ]
  },
  {
   "cell_type": "code",
   "execution_count": 8,
   "id": "c42c756e-c5ad-443b-8afa-9ff9ba745995",
   "metadata": {},
   "outputs": [
    {
     "name": "stdout",
     "output_type": "stream",
     "text": [
      "Requirement already satisfied: statsmodels in c:\\users\\ariana\\anaconda3\\envs\\espacio_py39\\lib\\site-packages (0.14.5)\n",
      "Requirement already satisfied: numpy<3,>=1.22.3 in c:\\users\\ariana\\anaconda3\\envs\\espacio_py39\\lib\\site-packages (from statsmodels) (2.0.2)\n",
      "Requirement already satisfied: scipy!=1.9.2,>=1.8 in c:\\users\\ariana\\anaconda3\\envs\\espacio_py39\\lib\\site-packages (from statsmodels) (1.13.1)\n",
      "Requirement already satisfied: pandas!=2.1.0,>=1.4 in c:\\users\\ariana\\anaconda3\\envs\\espacio_py39\\lib\\site-packages (from statsmodels) (2.2.3)\n",
      "Requirement already satisfied: patsy>=0.5.6 in c:\\users\\ariana\\anaconda3\\envs\\espacio_py39\\lib\\site-packages (from statsmodels) (1.0.1)\n",
      "Requirement already satisfied: packaging>=21.3 in c:\\users\\ariana\\anaconda3\\envs\\espacio_py39\\lib\\site-packages (from statsmodels) (25.0)\n",
      "Requirement already satisfied: python-dateutil>=2.8.2 in c:\\users\\ariana\\anaconda3\\envs\\espacio_py39\\lib\\site-packages (from pandas!=2.1.0,>=1.4->statsmodels) (2.9.0.post0)\n",
      "Requirement already satisfied: pytz>=2020.1 in c:\\users\\ariana\\anaconda3\\envs\\espacio_py39\\lib\\site-packages (from pandas!=2.1.0,>=1.4->statsmodels) (2025.2)\n",
      "Requirement already satisfied: tzdata>=2022.7 in c:\\users\\ariana\\anaconda3\\envs\\espacio_py39\\lib\\site-packages (from pandas!=2.1.0,>=1.4->statsmodels) (2025.2)\n",
      "Requirement already satisfied: six>=1.5 in c:\\users\\ariana\\anaconda3\\envs\\espacio_py39\\lib\\site-packages (from python-dateutil>=2.8.2->pandas!=2.1.0,>=1.4->statsmodels) (1.17.0)\n"
     ]
    },
    {
     "name": "stderr",
     "output_type": "stream",
     "text": [
      "\n",
      "[notice] A new release of pip is available: 25.1.1 -> 25.2\n",
      "[notice] To update, run: C:\\Users\\ARIANA\\anaconda3\\envs\\espacio_py39\\python.exe -m pip install --upgrade pip\n"
     ]
    }
   ],
   "source": [
    "!{sys.executable} -m pip install statsmodels\n"
   ]
  },
  {
   "cell_type": "code",
   "execution_count": null,
   "id": "112d637b-05d2-4ee0-ba94-a6a35e1fcef7",
   "metadata": {},
   "outputs": [],
   "source": [
    "import numpy as np\n",
    "import pandas as pd\n",
    "import matplotlib.pyplot as plt\n",
    "import networkx as nx\n",
    "import statsmodels.api as sm\n",
    "from scipy import stats"
   ]
  },
  {
   "cell_type": "code",
   "execution_count": null,
   "id": "cb25caad-3137-42e1-96a7-4d17d69c0a93",
   "metadata": {},
   "outputs": [],
   "source": [
    "# -----------------------------\n",
    "# 2) Simulación acorde al DAG\n",
    "#    Todas las flechas con coeficiente 1.\n",
    "# -----------------------------\n",
    "rng = np.random.default_rng(42)\n",
    "n = 5_000\n",
    "\n",
    "# Exógenas\n",
    "eps_z1 = rng.normal(0, 1, n)\n",
    "eps_z3 = rng.normal(0, 1, n)\n",
    "eps_z2 = rng.normal(0, 1, n)\n",
    "eps_x  = rng.normal(0, 1, n)\n",
    "eps_y  = rng.normal(0, 1, n)\n",
    "\n",
    "Z1 = eps_z1\n",
    "Z3 = eps_z3\n",
    "Z2 = Z3 + eps_z2             # Z3 → Z2\n",
    "X  = Z1 + Z2 + eps_x         # Z1 → X y Z2 → X\n",
    "Y  = X + Z1 + Z2 + Z3 + eps_y  # X,Z1,Z2,Z3 → Y\n",
    "\n",
    "df = pd.DataFrame({\"Y\": Y, \"X\": X, \"Z1\": Z1, \"Z2\": Z2, \"Z3\": Z3})"
   ]
  },
  {
   "cell_type": "code",
   "execution_count": null,
   "id": "33d97d21-7a4f-44a5-836d-2ec8985f70af",
   "metadata": {},
   "outputs": [],
   "source": [
    "# -----------------------------\n",
    "# 3) Regressions requeridas\n",
    "#    Guardamos el coef. de X, su IC al 99% y significancia al 1%.\n",
    "# -----------------------------\n",
    "def run_ols(y, Xvars, data):\n",
    "    Xmat = sm.add_constant(data[Xvars])\n",
    "    model = sm.OLS(data[y], Xmat).fit()\n",
    "    b = model.params[\"X\"]\n",
    "    se = model.bse[\"X\"]\n",
    "    # IC 99%\n",
    "    tcrit = stats.t.ppf(1 - 0.01/2, df=len(data) - Xmat.shape[1])\n",
    "    lo, hi = b - tcrit*se, b + tcrit*se\n",
    "    sig1 = (lo > 0) or (hi < 0)   # excluye cero al 1%\n",
    "    return b, se, lo, hi, sig1, model\n",
    "\n",
    "specs = [\n",
    "    (\"(1) Y ~ X\"                 , [\"X\"]),\n",
    "    (\"(2) Y ~ X + Z1\"            , [\"X\",\"Z1\"]),\n",
    "    (\"(3) Y ~ X + Z2\"            , [\"X\",\"Z2\"]),\n",
    "    (\"(4) Y ~ X + Z1 + Z2\"       , [\"X\",\"Z1\",\"Z2\"]),\n",
    "    (\"(5) Y ~ X + Z1 + Z2 + Z3\"  , [\"X\",\"Z1\",\"Z2\",\"Z3\"]),\n",
    "]\n",
    "\n",
    "rows = []\n",
    "models = {}\n",
    "for name, Xvars in specs:\n",
    "    b, se, lo, hi, sig1, m = run_ols(\"Y\", Xvars, df)\n",
    "    rows.append({\"spec\": name, \"beta_X\": b, \"se_X\": se, \"lo99\": lo, \"hi99\": hi, \"sig@1%\": sig1})\n",
    "    models[name] = m\n",
    "\n",
    "res = pd.DataFrame(rows)\n",
    "print(\"Efecto verdadero de X→Y = 1.0\")\n",
    "print(res.to_string(index=False, float_format=lambda v: f\"{v:,.3f}\"))"
   ]
  },
  {
   "cell_type": "code",
   "execution_count": null,
   "id": "35c0f0d7-2962-48e5-a259-478ac0ee3d10",
   "metadata": {},
   "outputs": [],
   "source": [
    "# -----------------------------\n",
    "# 4) Gráfico: estimaciones puntuales e IC 99% de β_X\n",
    "# -----------------------------\n",
    "plt.figure(figsize=(8,5.2))\n",
    "x = np.arange(len(res))\n",
    "y = res[\"beta_X\"].values\n",
    "yerr = np.vstack([y - res[\"lo99\"].values, res[\"hi99\"].values - y])\n",
    "\n",
    "plt.errorbar(x, y, yerr=yerr, fmt=\"o\", capsize=5, linewidth=2)\n",
    "plt.axhline(1.0, linestyle=\"--\", linewidth=1.5, label=\"Valor verdadero β=1\")\n",
    "plt.xticks(x, res[\"spec\"].values, rotation=15)\n",
    "plt.ylabel(\"Estimación de β_X (IC 99%)\")\n",
    "plt.title(\"Estimaciones de β_X con diferentes controles\", weight=\"bold\")\n",
    "plt.grid(True, linestyle=\":\", alpha=0.6)\n",
    "plt.legend()\n",
    "plt.tight_layout()\n",
    "plt.show()\n"
   ]
  },
  {
   "cell_type": "markdown",
   "id": "eafe2ba2-213b-424d-b910-32e55e4c266a",
   "metadata": {},
   "source": [
    "# Comentario breve (en consola)\n",
    "Está sesgado porque Z1, Z2 y Z3 causan Y y además Z1 y Z2 causan X.\n",
    "Agregar Z1 o Z2 reduce el sesgo parcialmente. Con Z1+Z2 el sesgo casi desaparece.\n",
    "Incluir Z3 también ayuda porque Z3 mueve a Y y a Z2 (vía Z3→Z2), cerrando caminos adicionales."
   ]
  },
  {
   "cell_type": "code",
   "execution_count": null,
   "id": "92e5fce4-d4a7-40c3-883b-661315f2510d",
   "metadata": {},
   "outputs": [],
   "source": [
    "# Respuestas a las preguntas\n",
    "\n",
    "## 1. ¿Qué regresiones estiman correctamente el efecto de X sobre Y?\n",
    "\n",
    "Al observar la tabla `res` y el gráfico de intervalos de confianza, las regresiones que entregan un estimador \\(\\hat{\\beta}_X \\approx 1\\) (el valor verdadero) y con intervalo de confianza al 99% que contiene 1 son:\n",
    "\n",
    "- **(4) `Y ~ X + Z1 + Z2`**  \n",
    "- **(5) `Y ~ X + Z1 + Z2 + Z3`**\n",
    "\n",
    "**Explicación causal:**  \n",
    "Z1 y Z2 son confusores porque afectan tanto a X como a Y. Al incluirlos como controles, bloqueamos los caminos de back-door. En cambio, Z3 no es confusor de X (no hay flecha Z3 → X), por lo que no es estrictamente necesario incluirlo. Por eso el modelo (4) ya identifica correctamente el efecto.\n",
    "\n",
    "---\n",
    "\n",
    "## 2. Tabla resumen para regresiones (4) y (5)\n",
    "\n",
    "En el código original guardamos los modelos en `models`. Con el siguiente bloque obtenemos los resultados:\n",
    "\n",
    "```python\n",
    "# Resúmenes completos\n",
    "print(models[\"(4) Y ~ X + Z1 + Z2\"].summary())\n",
    "print(models[\"(5) Y ~ X + Z1 + Z2 + Z3\"].summary())\n",
    "\n",
    "# Tabla compacta solo para el coeficiente de X\n",
    "def tabla_x(m):\n",
    "    ci = m.conf_int(alpha=0.01).loc[\"X\"]\n",
    "    return pd.Series({\n",
    "        \"beta_X\": m.params[\"X\"],\n",
    "        \"se_X\": m.bse[\"X\"],\n",
    "        \"t\": m.tvalues[\"X\"],\n",
    "        \"p\": m.pvalues[\"X\"],\n",
    "        \"lo99\": ci[0],\n",
    "        \"hi99\": ci[1]\n",
    "    })\n",
    "\n",
    "tab45 = pd.DataFrame({\n",
    "    \"(4) X\": tabla_x(models[\"(4) Y ~ X + Z1 + Z2\"]),\n",
    "    \"(5) X\": tabla_x(models[\"(5) Y ~ X + Z1 + Z2 + Z3\"])\n",
    "}).T\n",
    "\n",
    "print(tab45.to_string(float_format=lambda v: f\"{v:,.3f}\"))\n"
   ]
  },
  {
   "cell_type": "markdown",
   "id": "5f4c622d-3c55-4e3c-a0b5-fa461e329344",
   "metadata": {},
   "source": [
    "**Comentario esperado:**\n",
    "\n",
    "- Ambas regresiones entregan \\(\\hat{\\beta}_X \\approx 1\\), altamente significativas al 1%.  \n",
    "- La precisión mejora en (5), ya que al incluir Z3 se reduce la varianza residual de Y, lo que disminuye la desviación estándar.  \n",
    "- No obstante, el modelo (4) ya es suficiente para recuperar el efecto verdadero.  \n",
    "\n",
    "---\n",
    "\n",
    "## 3. ¿Se puede ignorar alguna Z y aun así estimar bien?\n",
    "\n",
    "Sí. Podemos **ignorar Z3** y aún obtener una buena estimación del efecto de X sobre Y.  \n",
    "\n",
    "**Razones:**\n",
    "- **Z1 y Z2** son confusores porque influyen tanto en X como en Y. Por lo tanto, deben incluirse en el modelo.  \n",
    "- **Z3** no es confusor de X, ya que no existe la flecha Z3 → X. Su efecto sobre Y ocurre de forma directa y a través de Z2.  \n",
    "- El **conjunto de ajuste mínimo** por el criterio de back-door es \\(\\{Z1, Z2\\}\\).  \n",
    "\n",
    "Por eso, la regresión **(4) `Y ~ X + Z1 + Z2`** es suficiente para obtener un estimador correcto y no sesgado del efecto causal de X sobre Y."
   ]
  },
  {
   "cell_type": "code",
   "execution_count": null,
   "id": "716a1c7a-1821-4498-a006-a15140a1a04d",
   "metadata": {},
   "outputs": [],
   "source": []
  },
  {
   "cell_type": "code",
   "execution_count": null,
   "id": "1ed525da-12b8-4689-a189-c49571d908d9",
   "metadata": {},
   "outputs": [],
   "source": []
  },
  {
   "cell_type": "code",
   "execution_count": null,
   "id": "996a24de-b133-4f1b-baa5-2302ac3b5fa7",
   "metadata": {},
   "outputs": [],
   "source": []
  },
  {
   "cell_type": "code",
   "execution_count": null,
   "id": "318699a1-4ce4-4f31-af4c-e9dfc993be0b",
   "metadata": {},
   "outputs": [],
   "source": []
  }
 ],
 "metadata": {
  "kernelspec": {
   "display_name": "Python 3.9 - Spatial",
   "language": "python",
   "name": "espacio_py39"
  },
  "language_info": {
   "codemirror_mode": {
    "name": "ipython",
    "version": 3
   },
   "file_extension": ".py",
   "mimetype": "text/x-python",
   "name": "python",
   "nbconvert_exporter": "python",
   "pygments_lexer": "ipython3",
   "version": "3.9.21"
  }
 },
 "nbformat": 4,
 "nbformat_minor": 5
}
