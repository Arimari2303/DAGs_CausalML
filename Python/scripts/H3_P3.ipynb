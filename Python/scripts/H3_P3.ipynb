{
 "cells": [
  {
   "cell_type": "markdown",
   "id": "92d650d0",
   "metadata": {},
   "source": [
    "# Parte 1"
   ]
  },
  {
   "cell_type": "markdown",
   "id": "5358738c",
   "metadata": {},
   "source": [
    "## Instalar librerías"
   ]
  },
  {
   "cell_type": "code",
   "execution_count": 1,
   "id": "cfcec1ab",
   "metadata": {},
   "outputs": [],
   "source": [
    "# Librerías\n",
    "import numpy as np\n",
    "import pandas as pd\n",
    "import matplotlib.pyplot as plt\n",
    "import networkx as nx\n",
    "from scipy import stats\n",
    "import statsmodels.api as sms"
   ]
  },
  {
   "cell_type": "markdown",
   "id": "1934cd74",
   "metadata": {},
   "source": [
    "## Simulación del ejemplo 4 de la PD"
   ]
  },
  {
   "cell_type": "markdown",
   "id": "70740b34",
   "metadata": {},
   "source": [
    "![Texto alternativo](https://private-user-images.githubusercontent.com/133716845/491800657-79080098-7da9-4e31-985a-4a2c1ea6c9a7.png?jwt=eyJ0eXAiOiJKV1QiLCJhbGciOiJIUzI1NiJ9.eyJpc3MiOiJnaXRodWIuY29tIiwiYXVkIjoicmF3LmdpdGh1YnVzZXJjb250ZW50LmNvbSIsImtleSI6ImtleTUiLCJleHAiOjE3NTkwOTkyODksIm5iZiI6MTc1OTA5ODk4OSwicGF0aCI6Ii8xMzM3MTY4NDUvNDkxODAwNjU3LTc5MDgwMDk4LTdkYTktNGUzMS05ODVhLTRhMmMxZWE2YzlhNy5wbmc_WC1BbXotQWxnb3JpdGhtPUFXUzQtSE1BQy1TSEEyNTYmWC1BbXotQ3JlZGVudGlhbD1BS0lBVkNPRFlMU0E1M1BRSzRaQSUyRjIwMjUwOTI4JTJGdXMtZWFzdC0xJTJGczMlMkZhd3M0X3JlcXVlc3QmWC1BbXotRGF0ZT0yMDI1MDkyOFQyMjM2MjlaJlgtQW16LUV4cGlyZXM9MzAwJlgtQW16LVNpZ25hdHVyZT1jMTc4NTZmYWQ3NjA5YTM2OTcwNDI5ZjA4YWJiMWVhZWVhNzQwN2MzYzUwMzg0OGVjZmY5ZTlhMjY4YTQ3OTA0JlgtQW16LVNpZ25lZEhlYWRlcnM9aG9zdCJ9.J-Znrfn3bqMHFAmwsby2n3PrALcRIhAJiVtaYTlFido )"
   ]
  },
  {
   "cell_type": "code",
   "execution_count": 2,
   "id": "e59b3eaa",
   "metadata": {},
   "outputs": [],
   "source": [
    "sample = np.random.uniform(0, 1, (1_000_000, 1)) < 0.001\n",
    "sample.sum()\n",
    "sample_indices = np.where(sample)[0]"
   ]
  },
  {
   "cell_type": "code",
   "execution_count": 3,
   "id": "417a0e30",
   "metadata": {},
   "outputs": [],
   "source": [
    "pop_U1 = np.random.normal(0, 1, (1_000_000, 1))\n",
    "pop_U2 = np.random.normal(0, 1, (1_000_000, 1))\n",
    "pop_Z = pop_U1 + pop_U2 + np.random.normal(0, 1, (1_000_000, 1))\n",
    "pop_X = pop_U1 + np.random.normal(0, 1, (1_000_000, 1))\n",
    "pop_Y = pop_X + pop_U2 + pop_Z + np.random.normal(0, 1, (1_000_000, 1))"
   ]
  },
  {
   "cell_type": "markdown",
   "id": "31bc55ed",
   "metadata": {},
   "source": [
    "## Regresión controlando y no controlando por Z"
   ]
  },
  {
   "cell_type": "code",
   "execution_count": 4,
   "id": "363a32d8",
   "metadata": {},
   "outputs": [
    {
     "name": "stdout",
     "output_type": "stream",
     "text": [
      "                                 OLS Regression Results                                \n",
      "=======================================================================================\n",
      "Dep. Variable:                      y   R-squared (uncentered):                   0.421\n",
      "Model:                            OLS   Adj. R-squared (uncentered):              0.420\n",
      "Method:                 Least Squares   F-statistic:                              715.8\n",
      "Date:                Sun, 28 Sep 2025   Prob (F-statistic):                   5.45e-119\n",
      "Time:                        22:32:11   Log-Likelihood:                         -2313.1\n",
      "No. Observations:                 987   AIC:                                      4628.\n",
      "Df Residuals:                     986   BIC:                                      4633.\n",
      "Df Model:                           1                                                  \n",
      "Covariance Type:            nonrobust                                                  \n",
      "==============================================================================\n",
      "                 coef    std err          t      P>|t|      [0.025      0.975]\n",
      "------------------------------------------------------------------------------\n",
      "x1             1.4810      0.055     26.754      0.000       1.372       1.590\n",
      "==============================================================================\n",
      "Omnibus:                        3.784   Durbin-Watson:                   2.134\n",
      "Prob(Omnibus):                  0.151   Jarque-Bera (JB):                3.766\n",
      "Skew:                          -0.125   Prob(JB):                        0.152\n",
      "Kurtosis:                       2.828   Cond. No.                         1.00\n",
      "==============================================================================\n",
      "\n",
      "Notes:\n",
      "[1] R² is computed without centering (uncentered) since the model does not contain a constant.\n",
      "[2] Standard Errors assume that the covariance matrix of the errors is correctly specified.\n"
     ]
    }
   ],
   "source": [
    "print(sms.OLS(pop_Y[sample_indices], pop_X[sample_indices]).fit().summary())"
   ]
  },
  {
   "cell_type": "code",
   "execution_count": 5,
   "id": "c863a0a0",
   "metadata": {},
   "outputs": [
    {
     "name": "stdout",
     "output_type": "stream",
     "text": [
      "                                 OLS Regression Results                                \n",
      "=======================================================================================\n",
      "Dep. Variable:                      y   R-squared (uncentered):                   0.854\n",
      "Model:                            OLS   Adj. R-squared (uncentered):              0.854\n",
      "Method:                 Least Squares   F-statistic:                              2888.\n",
      "Date:                Sun, 28 Sep 2025   Prob (F-statistic):                        0.00\n",
      "Time:                        22:32:11   Log-Likelihood:                         -1631.8\n",
      "No. Observations:                 987   AIC:                                      3268.\n",
      "Df Residuals:                     985   BIC:                                      3277.\n",
      "Df Model:                           2                                                  \n",
      "Covariance Type:            nonrobust                                                  \n",
      "==============================================================================\n",
      "                 coef    std err          t      P>|t|      [0.025      0.975]\n",
      "------------------------------------------------------------------------------\n",
      "x1             0.8472      0.030     28.111      0.000       0.788       0.906\n",
      "x2             1.3692      0.025     54.152      0.000       1.320       1.419\n",
      "==============================================================================\n",
      "Omnibus:                        2.771   Durbin-Watson:                   1.970\n",
      "Prob(Omnibus):                  0.250   Jarque-Bera (JB):                2.946\n",
      "Skew:                           0.032   Prob(JB):                        0.229\n",
      "Kurtosis:                       3.260   Cond. No.                         1.56\n",
      "==============================================================================\n",
      "\n",
      "Notes:\n",
      "[1] R² is computed without centering (uncentered) since the model does not contain a constant.\n",
      "[2] Standard Errors assume that the covariance matrix of the errors is correctly specified.\n"
     ]
    }
   ],
   "source": [
    "print(sms.OLS(pop_Y[sample_indices], np.hstack((pop_X, pop_Z))[sample_indices]).fit().summary())"
   ]
  },
  {
   "cell_type": "markdown",
   "id": "122a87cd",
   "metadata": {},
   "source": [
    "## Graficar con intervalos de confianza"
   ]
  },
  {
   "cell_type": "code",
   "execution_count": 7,
   "id": "d9e80e81",
   "metadata": {},
   "outputs": [],
   "source": [
    "df = pd.DataFrame({\"X\": pop_X.flatten(),  \"Z\": pop_Z.flatten(), \"Y\": pop_Y.flatten() })\n",
    "df_sample = df.iloc[sample_indices]\n",
    "Xmat = sms.add_constant(df_sample[[\"X\", \"Z\"]])\n",
    "Y = df_sample[\"Y\"]\n",
    "model = sms.OLS(Y, Xmat).fit()\n",
    "b = model.params[\"X\"]\n",
    "se = model.bse[\"X\"]\n",
    "tcrit = stats.t.ppf(1 - 0.01/2, df=int(model.df_resid))\n",
    "lo1, hi1 = b - tcrit*se, b + tcrit*se"
   ]
  },
  {
   "cell_type": "code",
   "execution_count": 8,
   "id": "309e4b9a",
   "metadata": {},
   "outputs": [],
   "source": [
    "Xmat = sms.add_constant(df_sample[[\"X\"]])\n",
    "Y = df_sample[\"Y\"]\n",
    "model = sms.OLS(Y, Xmat).fit()\n",
    "b2 = model.params[\"X\"]\n",
    "se = model.bse[\"X\"]\n",
    "tcrit2 = stats.t.ppf(1 - 0.01/2, df=int(model.df_resid))\n",
    "lo2, hi2 = b2 - tcrit2*se, b2 + tcrit2*se"
   ]
  },
  {
   "cell_type": "code",
   "execution_count": 9,
   "id": "30f5897f",
   "metadata": {},
   "outputs": [
    {
     "data": {
      "image/png": "[encoded data removed]",
      "text/plain": [
       "<Figure size 700x500 with 1 Axes>"
      ]
     },
     "metadata": {},
     "output_type": "display_data"
    }
   ],
   "source": [
    "labels = [\"Y ~ X + Z\", \"Y ~ X\"]\n",
    "betas  = np.array([b, b2])\n",
    "yerr   = np.vstack([betas - np.array([lo1, lo2]),\n",
    "                    np.array([hi1, hi2]) - betas])\n",
    "\n",
    "x = np.arange(len(labels))\n",
    "\n",
    "plt.figure(figsize=(7,5))\n",
    "plt.errorbar(x, betas, yerr=yerr, fmt=\"o\", capsize=5, linewidth=2, label=\"β̂_X\")\n",
    "plt.axhline(1.0, linestyle=\"--\", linewidth=1.5, label=\"Valor verdadero β=1\")\n",
    "plt.xticks(x, labels, rotation=0)\n",
    "plt.ylabel(\"Estimación de β_X (IC 99%)\")\n",
    "plt.title(\"Coeficiente de X con y sin controlar por Z\")\n",
    "plt.grid(True, linestyle=\":\", alpha=0.6)\n",
    "plt.legend()\n",
    "plt.tight_layout()\n",
    "plt.show()"
   ]
  },
  {
   "cell_type": "markdown",
   "id": "7b0438be",
   "metadata": {},
   "source": [
    "# Parte 2"
   ]
  },
  {
   "cell_type": "markdown",
   "id": "0523b008",
   "metadata": {},
   "source": [
    "## Ahora Z afecta X\n",
    "## Simulación y DAG"
   ]
  },
  {
   "cell_type": "code",
   "execution_count": 10,
   "id": "0c64e220",
   "metadata": {},
   "outputs": [],
   "source": [
    "pop_U1 = np.random.normal(0, 1, (1_000_000, 1))\n",
    "pop_U2 = np.random.normal(0, 1, (1_000_000, 1))\n",
    "pop_Z = pop_U1 + pop_U2 + np.random.normal(0, 1, (1_000_000, 1))\n",
    "pop_X = pop_U1 + pop_Z + np.random.normal(0, 1, (1_000_000, 1))\n",
    "pop_Y = pop_X + pop_U2 + pop_Z + np.random.normal(0, 1, (1_000_000, 1))"
   ]
  },
  {
   "cell_type": "code",
   "execution_count": 14,
   "id": "584a8ffa",
   "metadata": {},
   "outputs": [
    {
     "name": "stdout",
     "output_type": "stream",
     "text": [
      "Requirement already satisfied: causalgraphicalmodels in c:\\users\\pc\\.conda\\envs\\lab2\\lib\\site-packages (0.0.4)\n",
      "Requirement already satisfied: graphviz in c:\\users\\pc\\.conda\\envs\\lab2\\lib\\site-packages (from causalgraphicalmodels) (0.21)\n",
      "Requirement already satisfied: networkx in c:\\users\\pc\\.conda\\envs\\lab2\\lib\\site-packages (from causalgraphicalmodels) (3.4.2)\n",
      "Requirement already satisfied: numpy in c:\\users\\pc\\.conda\\envs\\lab2\\lib\\site-packages (from causalgraphicalmodels) (2.2.6)\n",
      "Requirement already satisfied: pandas in c:\\users\\pc\\.conda\\envs\\lab2\\lib\\site-packages (from causalgraphicalmodels) (2.2.2)\n",
      "Requirement already satisfied: python-dateutil>=2.8.2 in c:\\users\\pc\\.conda\\envs\\lab2\\lib\\site-packages (from pandas->causalgraphicalmodels) (2.9.0.post0)\n",
      "Requirement already satisfied: pytz>=2020.1 in c:\\users\\pc\\.conda\\envs\\lab2\\lib\\site-packages (from pandas->causalgraphicalmodels) (2025.2)\n",
      "Requirement already satisfied: tzdata>=2022.7 in c:\\users\\pc\\.conda\\envs\\lab2\\lib\\site-packages (from pandas->causalgraphicalmodels) (2025.2)\n",
      "Requirement already satisfied: six>=1.5 in c:\\users\\pc\\.conda\\envs\\lab2\\lib\\site-packages (from python-dateutil>=2.8.2->pandas->causalgraphicalmodels) (1.17.0)\n",
      "Note: you may need to restart the kernel to use updated packages.\n"
     ]
    }
   ],
   "source": [
    "pip install causalgraphicalmodels\n"
   ]
  },
  {
   "cell_type": "code",
   "execution_count": null,
   "id": "5a99864e",
   "metadata": {},
   "outputs": [],
   "source": [
    "from causalgraphicalmodels import CausalGraphicalModel\n",
    "# Hice un pequeño parche para que ejecutara por mi versión depython\n",
    "# En c:\\Users\\PC\\.conda\\envs\\lab2\\lib\\site-packages\\causalgraphicalmodels\\cgm.py\n",
    "# Cambie from collections import Iterable\n",
    "# Por from collections.abc import Iterable\n",
    "#Librerias necesarias\n",
    "import networkx as nx\n",
    "import matplotlib.pyplot as plt\n"
   ]
  },
  {
   "cell_type": "code",
   "execution_count": 30,
   "id": "457e38d0",
   "metadata": {},
   "outputs": [
    {
     "data": {
      "image/png": "[encoded data removed]",
      "text/plain": [
       "<Figure size 600x600 with 1 Axes>"
      ]
     },
     "metadata": {},
     "output_type": "display_data"
    }
   ],
   "source": [
    "nodes = [\"U1\", \"U2\", \"X\", \"Y\", \"Z\"]\n",
    "edges = [\n",
    "    (\"U1\", \"Z\"),\n",
    "    (\"U1\", \"X\"),\n",
    "    (\"U2\", \"Z\"),\n",
    "    (\"U2\", \"Y\"),\n",
    "    (\"X\", \"Y\"),\n",
    "    (\"Z\", \"Y\"),\n",
    "    (\"Z\", \"X\")  \n",
    "]\n",
    "G = nx.DiGraph()\n",
    "G.add_nodes_from(nodes)\n",
    "G.add_edges_from(edges)\n",
    "pos = {\n",
    "    \"U1\": (-1, 1),\n",
    "    \"U2\": (1, 1),\n",
    "    \"Z\": (0, 1),\n",
    "    \"X\": (-1, -0.5),\n",
    "    \"Y\": (1, -0.5)\n",
    "}\n",
    "plt.figure(figsize=(6,6))\n",
    "nx.draw(\n",
    "    G, pos,\n",
    "    with_labels=True,\n",
    "    node_size=2000,\n",
    "    node_color=\"white\",\n",
    "    edgecolors=\"black\",\n",
    "    arrowsize=20,\n",
    "    font_size=12,\n",
    "    font_weight=\"bold\"\n",
    ")\n",
    "plt.show()"
   ]
  },
  {
   "cell_type": "markdown",
   "id": "e50a55bb",
   "metadata": {},
   "source": [
    "## Regresionamos X contra Y usando cada posible combinación"
   ]
  },
  {
   "cell_type": "code",
   "execution_count": null,
   "id": "429ceef1",
   "metadata": {},
   "outputs": [],
   "source": [
    "# Definimos las 8 posibles combinaciones\n",
    "# 1) Y ~ X\n",
    "# 2) Y ~ X + Z\n",
    "# 3) Y ~ X + U1\n",
    "# 4) Y ~ X + U2\n",
    "# 5) Y ~ X + Z + U1\n",
    "# 6) Y ~ X + Z + U2\n",
    "# 7) Y ~ X + U1 + U2\n",
    "# 8) Y ~ X + Z + U1 + U2"
   ]
  },
  {
   "cell_type": "code",
   "execution_count": 32,
   "id": "3ef063ad",
   "metadata": {},
   "outputs": [],
   "source": [
    "df = pd.DataFrame({\n",
    "    \"X\": pop_X.flatten(),\n",
    "    \"Z\": pop_Z.flatten(),\n",
    "    \"U1\": pop_U1.flatten(),\n",
    "    \"U2\": pop_U2.flatten(),\n",
    "    \"Y\": pop_Y.flatten()\n",
    "})\n",
    "\n",
    "df_sample = df.iloc[sample_indices]\n",
    "Parametros = []\n",
    "ParSe = []\n",
    "Nombres = []\n",
    "\n"
   ]
  },
  {
   "cell_type": "code",
   "execution_count": 35,
   "id": "db5e6419",
   "metadata": {},
   "outputs": [],
   "source": [
    "### 1) Y ~ X\n",
    "Xmat = sms.add_constant(df_sample[[\"X\"]])\n",
    "Y = df_sample[\"Y\"]\n",
    "model = sms.OLS(Y, Xmat).fit()\n",
    "b2 = model.params[\"X\"]\n",
    "se = model.bse[\"X\"]\n",
    "nombre = \"Y ~ X\"\n",
    "Parametros.append(b2)\n",
    "ParSe.append(se)\n",
    "Nombres.append(nombre)\n",
    "\n",
    "### 2) Y ~ X + Z\n",
    "Xmat = sms.add_constant(df_sample[[\"X\", \"Z\"]])\n",
    "model = sms.OLS(Y, Xmat).fit()\n",
    "b2 = model.params[\"X\"]\n",
    "se = model.bse[\"X\"]\n",
    "nombre = \"Y ~ X + Z\"\n",
    "Parametros.append(b2)\n",
    "ParSe.append(se)\n",
    "Nombres.append(nombre)\n",
    "\n",
    "### 3) Y ~ X + U1\n",
    "Xmat = sms.add_constant(df_sample[[\"X\", \"U1\"]])\n",
    "model = sms.OLS(Y, Xmat).fit()\n",
    "b2 = model.params[\"X\"]\n",
    "se = model.bse[\"X\"]\n",
    "nombre = \"Y ~ X + U1\"\n",
    "Parametros.append(b2)\n",
    "ParSe.append(se)\n",
    "Nombres.append(nombre)\n",
    "\n",
    "### 4) Y ~ X + U2\n",
    "Xmat = sms.add_constant(df_sample[[\"X\", \"U2\"]])\n",
    "model = sms.OLS(Y, Xmat).fit()\n",
    "b2 = model.params[\"X\"]\n",
    "se = model.bse[\"X\"]\n",
    "nombre = \"Y ~ X + U2\"\n",
    "Parametros.append(b2)\n",
    "ParSe.append(se)\n",
    "Nombres.append(nombre)\n",
    "\n",
    "### 5) Y ~ X + Z + U1\n",
    "Xmat = sms.add_constant(df_sample[[\"X\", \"Z\", \"U1\"]])\n",
    "model = sms.OLS(Y, Xmat).fit()\n",
    "b2 = model.params[\"X\"]\n",
    "se = model.bse[\"X\"]\n",
    "nombre = \"Y ~ X + Z + U1\"\n",
    "Parametros.append(b2)\n",
    "ParSe.append(se)\n",
    "Nombres.append(nombre)\n",
    "\n",
    "### 6) Y ~ X + Z + U2\n",
    "Xmat = sms.add_constant(df_sample[[\"X\", \"Z\", \"U2\"]])\n",
    "model = sms.OLS(Y, Xmat).fit()\n",
    "b2 = model.params[\"X\"]\n",
    "se = model.bse[\"X\"]\n",
    "nombre = \"Y ~ X + Z + U2\"\n",
    "Parametros.append(b2)\n",
    "ParSe.append(se)\n",
    "Nombres.append(nombre)\n",
    "\n",
    "### 7) Y ~ X + U1 + U2\n",
    "Xmat = sms.add_constant(df_sample[[\"X\", \"U1\", \"U2\"]])\n",
    "model = sms.OLS(Y, Xmat).fit()\n",
    "b2 = model.params[\"X\"]\n",
    "se = model.bse[\"X\"]\n",
    "nombre = \"Y ~ X + U1 + U2\"\n",
    "Parametros.append(b2)\n",
    "ParSe.append(se)\n",
    "Nombres.append(nombre)\n",
    "\n",
    "### 8) Y ~ X + Z + U1 + U2\n",
    "Xmat = sms.add_constant(df_sample[[\"X\", \"Z\", \"U1\", \"U2\"]])\n",
    "model = sms.OLS(Y, Xmat).fit()\n",
    "b2 = model.params[\"X\"]\n",
    "se = model.bse[\"X\"]\n",
    "nombre = \"Y ~ X + Z + U1 + U2\"\n",
    "Parametros.append(b2)\n",
    "ParSe.append(se)\n",
    "Nombres.append(nombre)\n"
   ]
  },
  {
   "cell_type": "code",
   "execution_count": 37,
   "id": "97bac459",
   "metadata": {},
   "outputs": [
    {
     "name": "stdout",
     "output_type": "stream",
     "text": [
      "                Modelo    Coef_X      SE_X\n",
      "0                Y ~ X  1.702655  0.022394\n",
      "1                Y ~ X  1.702655  0.022394\n",
      "2            Y ~ X + Z  0.784821  0.030337\n",
      "3           Y ~ X + U1  1.969977  0.031499\n",
      "4           Y ~ X + U2  1.494676  0.016301\n",
      "5       Y ~ X + Z + U1  0.976459  0.037028\n",
      "6       Y ~ X + Z + U2  0.963986  0.025334\n",
      "7      Y ~ X + U1 + U2  1.485605  0.027701\n",
      "8  Y ~ X + Z + U1 + U2  0.966585  0.030581\n"
     ]
    }
   ],
   "source": [
    "resultados = pd.DataFrame({\"Modelo\": Nombres, \"Coef_X\": Parametros, \"SE_X\": ParSe})\n",
    "print(resultados)"
   ]
  },
  {
   "cell_type": "code",
   "execution_count": 39,
   "id": "5bc583ad",
   "metadata": {},
   "outputs": [],
   "source": [
    "resultados.to_csv(\"../output/resultados.txt\", index=False, sep=\"\\t\")"
   ]
  },
  {
   "cell_type": "markdown",
   "id": "5eca5862",
   "metadata": {},
   "source": [
    "### Based on your findings, in what way(s) can you get a good estimate of the causal effect"
   ]
  },
  {
   "cell_type": "markdown",
   "id": "05828520",
   "metadata": {},
   "source": [
    "#### En el modelo  Y ~ X + Z + U1, se obtiene el mejor resultado (más cercano al valor verdadero que es 1). Aunque el modelo X + Z + U2 o  X + Z + U1 + U2 también presentan valores muy cercanos."
   ]
  },
  {
   "cell_type": "markdown",
   "id": "2201443d",
   "metadata": {},
   "source": [
    "### What is the minimal sufficient set of controls to get a good estimate? [0.5 point]\n"
   ]
  },
  {
   "cell_type": "markdown",
   "id": "fd952db5",
   "metadata": {},
   "source": [
    "#### El mínimo para una buena estimación son 3 controles."
   ]
  },
  {
   "cell_type": "markdown",
   "id": "d7ef5f27",
   "metadata": {},
   "source": [
    "### Provide intuition on why you can get good estimates controlling for the variables you stablished above [0.5 point]\n"
   ]
  },
  {
   "cell_type": "markdown",
   "id": "7e2e3943",
   "metadata": {},
   "source": [
    "#### En este caso tanto U1 como U2 generan backdoor paths que conectan X y Y de manera no causal, por lo que es necesario controlarlos para eliminar las relaciones espurias; además, dado que Z afecta tanto a X como a Y, también actúa como confusor y si no se controla introduce correlación adicional entre ambas variables, de modo que para obtener una buena estimación del efecto de X sobre Y se requiere controlar por Z y al menos uno de los nodos U1 o U2, cerrando así todos los caminos de confusión y logrando que el coeficiente de X refleje principalmente el efecto causal verdadero."
   ]
  }
 ],
 "metadata": {
  "kernelspec": {
   "display_name": "lab2",
   "language": "python",
   "name": "python3"
  },
  "language_info": {
   "codemirror_mode": {
    "name": "ipython",
    "version": 3
   },
   "file_extension": ".py",
   "mimetype": "text/x-python",
   "name": "python",
   "nbconvert_exporter": "python",
   "pygments_lexer": "ipython3",
   "version": "3.10.18"
  }
 },
 "nbformat": 4,
 "nbformat_minor": 5
}
