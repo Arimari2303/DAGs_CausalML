{
 "cells": [
  {
   "cell_type": "markdown",
   "id": "5358738c",
   "metadata": {},
   "source": [
    "## Instalar librerías"
   ]
  },
  {
   "cell_type": "code",
   "execution_count": 10,
   "id": "cfcec1ab",
   "metadata": {},
   "outputs": [],
   "source": [
    "# Librerías\n",
    "import numpy as np\n",
    "import pandas as pd\n",
    "import matplotlib.pyplot as plt\n",
    "import networkx as nx\n",
    "from scipy import stats\n",
    "import statsmodels.api as sms"
   ]
  },
  {
   "cell_type": "markdown",
   "id": "1934cd74",
   "metadata": {},
   "source": [
    "## Simulación del ejemplo 4 de la PD"
   ]
  },
  {
   "cell_type": "markdown",
   "id": "70740b34",
   "metadata": {},
   "source": [
    "![Texto alternativo](https://private-user-images.githubusercontent.com/133716845/491800657-79080098-7da9-4e31-985a-4a2c1ea6c9a7.png?jwt=eyJ0eXAiOiJKV1QiLCJhbGciOiJIUzI1NiJ9.eyJpc3MiOiJnaXRodWIuY29tIiwiYXVkIjoicmF3LmdpdGh1YnVzZXJjb250ZW50LmNvbSIsImtleSI6ImtleTUiLCJleHAiOjE3NTkwOTkyODksIm5iZiI6MTc1OTA5ODk4OSwicGF0aCI6Ii8xMzM3MTY4NDUvNDkxODAwNjU3LTc5MDgwMDk4LTdkYTktNGUzMS05ODVhLTRhMmMxZWE2YzlhNy5wbmc_WC1BbXotQWxnb3JpdGhtPUFXUzQtSE1BQy1TSEEyNTYmWC1BbXotQ3JlZGVudGlhbD1BS0lBVkNPRFlMU0E1M1BRSzRaQSUyRjIwMjUwOTI4JTJGdXMtZWFzdC0xJTJGczMlMkZhd3M0X3JlcXVlc3QmWC1BbXotRGF0ZT0yMDI1MDkyOFQyMjM2MjlaJlgtQW16LUV4cGlyZXM9MzAwJlgtQW16LVNpZ25hdHVyZT1jMTc4NTZmYWQ3NjA5YTM2OTcwNDI5ZjA4YWJiMWVhZWVhNzQwN2MzYzUwMzg0OGVjZmY5ZTlhMjY4YTQ3OTA0JlgtQW16LVNpZ25lZEhlYWRlcnM9aG9zdCJ9.J-Znrfn3bqMHFAmwsby2n3PrALcRIhAJiVtaYTlFido )"
   ]
  },
  {
   "cell_type": "code",
   "execution_count": 6,
   "id": "e59b3eaa",
   "metadata": {},
   "outputs": [],
   "source": [
    "sample = np.random.uniform(0, 1, (1_000_000, 1)) < 0.001\n",
    "sample.sum()\n",
    "sample_indices = np.where(sample)[0]"
   ]
  },
  {
   "cell_type": "code",
   "execution_count": 4,
   "id": "417a0e30",
   "metadata": {},
   "outputs": [],
   "source": [
    "pop_U1 = np.random.normal(0, 1, (1_000_000, 1))\n",
    "pop_U2 = np.random.normal(0, 1, (1_000_000, 1))\n",
    "pop_Z = pop_U1 + pop_U2 + np.random.normal(0, 1, (1_000_000, 1))\n",
    "pop_X = pop_U1 + np.random.normal(0, 1, (1_000_000, 1))\n",
    "pop_Y = pop_X + pop_U2 + pop_Z + np.random.normal(0, 1, (1_000_000, 1))"
   ]
  },
  {
   "cell_type": "markdown",
   "id": "31bc55ed",
   "metadata": {},
   "source": [
    "## Regresión controlando y no controlando por Z"
   ]
  },
  {
   "cell_type": "code",
   "execution_count": 7,
   "id": "363a32d8",
   "metadata": {},
   "outputs": [
    {
     "name": "stdout",
     "output_type": "stream",
     "text": [
      "                                 OLS Regression Results                                \n",
      "=======================================================================================\n",
      "Dep. Variable:                      y   R-squared (uncentered):                   0.399\n",
      "Model:                            OLS   Adj. R-squared (uncentered):              0.398\n",
      "Method:                 Least Squares   F-statistic:                              667.9\n",
      "Date:                Sun, 28 Sep 2025   Prob (F-statistic):                   2.21e-113\n",
      "Time:                        17:41:11   Log-Likelihood:                         -2365.1\n",
      "No. Observations:                1008   AIC:                                      4732.\n",
      "Df Residuals:                    1007   BIC:                                      4737.\n",
      "Df Model:                           1                                                  \n",
      "Covariance Type:            nonrobust                                                  \n",
      "==============================================================================\n",
      "                 coef    std err          t      P>|t|      [0.025      0.975]\n",
      "------------------------------------------------------------------------------\n",
      "x1             1.4066      0.054     25.844      0.000       1.300       1.513\n",
      "==============================================================================\n",
      "Omnibus:                        2.104   Durbin-Watson:                   1.967\n",
      "Prob(Omnibus):                  0.349   Jarque-Bera (JB):                1.922\n",
      "Skew:                           0.012   Prob(JB):                        0.383\n",
      "Kurtosis:                       2.787   Cond. No.                         1.00\n",
      "==============================================================================\n",
      "\n",
      "Notes:\n",
      "[1] R² is computed without centering (uncentered) since the model does not contain a constant.\n",
      "[2] Standard Errors assume that the covariance matrix of the errors is correctly specified.\n"
     ]
    }
   ],
   "source": [
    "print(sms.OLS(pop_Y[sample_indices], pop_X[sample_indices]).fit().summary())"
   ]
  },
  {
   "cell_type": "code",
   "execution_count": 8,
   "id": "c863a0a0",
   "metadata": {},
   "outputs": [
    {
     "name": "stdout",
     "output_type": "stream",
     "text": [
      "                                 OLS Regression Results                                \n",
      "=======================================================================================\n",
      "Dep. Variable:                      y   R-squared (uncentered):                   0.850\n",
      "Model:                            OLS   Adj. R-squared (uncentered):              0.850\n",
      "Method:                 Least Squares   F-statistic:                              2859.\n",
      "Date:                Sun, 28 Sep 2025   Prob (F-statistic):                        0.00\n",
      "Time:                        17:41:36   Log-Likelihood:                         -1664.1\n",
      "No. Observations:                1008   AIC:                                      3332.\n",
      "Df Residuals:                    1006   BIC:                                      3342.\n",
      "Df Model:                           2                                                  \n",
      "Covariance Type:            nonrobust                                                  \n",
      "==============================================================================\n",
      "                 coef    std err          t      P>|t|      [0.025      0.975]\n",
      "------------------------------------------------------------------------------\n",
      "x1             0.7818      0.029     26.560      0.000       0.724       0.840\n",
      "x2             1.4090      0.026     55.102      0.000       1.359       1.459\n",
      "==============================================================================\n",
      "Omnibus:                       11.463   Durbin-Watson:                   1.971\n",
      "Prob(Omnibus):                  0.003   Jarque-Bera (JB):               16.632\n",
      "Skew:                           0.083   Prob(JB):                     0.000245\n",
      "Kurtosis:                       3.607   Cond. No.                         1.54\n",
      "==============================================================================\n",
      "\n",
      "Notes:\n",
      "[1] R² is computed without centering (uncentered) since the model does not contain a constant.\n",
      "[2] Standard Errors assume that the covariance matrix of the errors is correctly specified.\n"
     ]
    }
   ],
   "source": [
    "print(sms.OLS(pop_Y[sample_indices], np.hstack((pop_X, pop_Z))[sample_indices]).fit().summary())"
   ]
  },
  {
   "cell_type": "code",
   "execution_count": 9,
   "id": "f165623c",
   "metadata": {},
   "outputs": [
    {
     "name": "stdout",
     "output_type": "stream",
     "text": [
      "Collecting causalgraphicalmodels\n",
      "  Downloading causalgraphicalmodels-0.0.4-py3-none-any.whl.metadata (2.3 kB)\n",
      "Collecting graphviz (from causalgraphicalmodels)\n",
      "  Downloading graphviz-0.21-py3-none-any.whl.metadata (12 kB)\n",
      "Collecting networkx (from causalgraphicalmodels)\n",
      "  Downloading networkx-3.4.2-py3-none-any.whl.metadata (6.3 kB)\n",
      "Requirement already satisfied: numpy in c:\\users\\pc\\.conda\\envs\\lab2\\lib\\site-packages (from causalgraphicalmodels) (2.2.6)\n",
      "Requirement already satisfied: pandas in c:\\users\\pc\\.conda\\envs\\lab2\\lib\\site-packages (from causalgraphicalmodels) (2.2.2)\n",
      "Requirement already satisfied: python-dateutil>=2.8.2 in c:\\users\\pc\\.conda\\envs\\lab2\\lib\\site-packages (from pandas->causalgraphicalmodels) (2.9.0.post0)\n",
      "Requirement already satisfied: pytz>=2020.1 in c:\\users\\pc\\.conda\\envs\\lab2\\lib\\site-packages (from pandas->causalgraphicalmodels) (2025.2)\n",
      "Requirement already satisfied: tzdata>=2022.7 in c:\\users\\pc\\.conda\\envs\\lab2\\lib\\site-packages (from pandas->causalgraphicalmodels) (2025.2)\n",
      "Requirement already satisfied: six>=1.5 in c:\\users\\pc\\.conda\\envs\\lab2\\lib\\site-packages (from python-dateutil>=2.8.2->pandas->causalgraphicalmodels) (1.17.0)\n",
      "Downloading causalgraphicalmodels-0.0.4-py3-none-any.whl (11 kB)\n",
      "Downloading graphviz-0.21-py3-none-any.whl (47 kB)\n",
      "Downloading networkx-3.4.2-py3-none-any.whl (1.7 MB)\n",
      "   ---------------------------------------- 0.0/1.7 MB ? eta -:--:--\n",
      "   ---------------------------------------- 1.7/1.7 MB 47.1 MB/s eta 0:00:00\n",
      "Installing collected packages: networkx, graphviz, causalgraphicalmodels\n",
      "\n",
      "   ---------------------------------------- 0/3 [networkx]\n",
      "   ---------------------------------------- 0/3 [networkx]\n",
      "   ---------------------------------------- 0/3 [networkx]\n",
      "   ---------------------------------------- 0/3 [networkx]\n",
      "   ---------------------------------------- 0/3 [networkx]\n",
      "   ---------------------------------------- 0/3 [networkx]\n",
      "   ---------------------------------------- 0/3 [networkx]\n",
      "   ---------------------------------------- 0/3 [networkx]\n",
      "   ---------------------------------------- 0/3 [networkx]\n",
      "   ---------------------------------------- 0/3 [networkx]\n",
      "   ---------------------------------------- 0/3 [networkx]\n",
      "   ---------------------------------------- 0/3 [networkx]\n",
      "   ---------------------------------------- 0/3 [networkx]\n",
      "   ---------------------------------------- 0/3 [networkx]\n",
      "   ---------------------------------------- 0/3 [networkx]\n",
      "   ---------------------------------------- 0/3 [networkx]\n",
      "   ---------------------------------------- 0/3 [networkx]\n",
      "   ---------------------------------------- 0/3 [networkx]\n",
      "   ---------------------------------------- 0/3 [networkx]\n",
      "   ---------------------------------------- 0/3 [networkx]\n",
      "   ---------------------------------------- 0/3 [networkx]\n",
      "   ---------------------------------------- 0/3 [networkx]\n",
      "   ---------------------------------------- 0/3 [networkx]\n",
      "   ---------------------------------------- 0/3 [networkx]\n",
      "   ---------------------------------------- 0/3 [networkx]\n",
      "   ---------------------------------------- 0/3 [networkx]\n",
      "   ------------- -------------------------- 1/3 [graphviz]\n",
      "   ---------------------------------------- 3/3 [causalgraphicalmodels]\n",
      "\n",
      "Successfully installed causalgraphicalmodels-0.0.4 graphviz-0.21 networkx-3.4.2\n"
     ]
    }
   ],
   "source": [
    "!pip install causalgraphicalmodels"
   ]
  },
  {
   "cell_type": "markdown",
   "id": "122a87cd",
   "metadata": {},
   "source": [
    "## Graficar con intervalos de confianza"
   ]
  },
  {
   "cell_type": "code",
   "execution_count": 16,
   "id": "d9e80e81",
   "metadata": {},
   "outputs": [],
   "source": [
    "df = pd.DataFrame({\"X\": pop_X.flatten(),  \"Z\": pop_Z.flatten(), \"Y\": pop_Y.flatten() })\n",
    "df_sample = df.iloc[sample_indices]\n",
    "Xmat = sms.add_constant(df_sample[[\"X\", \"Z\"]])\n",
    "Y = df_sample[\"Y\"]\n",
    "model = sms.OLS(Y, Xmat).fit()\n",
    "b = model.params[\"X\"]\n",
    "se = model.bse[\"X\"]\n",
    "tcrit = stats.t.ppf(1 - 0.01/2, df=int(model.df_resid))\n",
    "lo1, hi1 = b - tcrit*se, b + tcrit*se"
   ]
  },
  {
   "cell_type": "code",
   "execution_count": 17,
   "id": "309e4b9a",
   "metadata": {},
   "outputs": [],
   "source": [
    "Xmat = sms.add_constant(df_sample[[\"X\"]])\n",
    "Y = df_sample[\"Y\"]\n",
    "model = sms.OLS(Y, Xmat).fit()\n",
    "b2 = model.params[\"X\"]\n",
    "se = model.bse[\"X\"]\n",
    "tcrit2 = stats.t.ppf(1 - 0.01/2, df=int(model.df_resid))\n",
    "lo2, hi2 = b2 - tcrit2*se, b2 + tcrit2*se"
   ]
  },
  {
   "cell_type": "code",
   "execution_count": 19,
   "id": "30f5897f",
   "metadata": {},
   "outputs": [
    {
     "data": {
      "image/png": "[encoded data removed]",
      "text/plain": [
       "<Figure size 700x500 with 1 Axes>"
      ]
     },
     "metadata": {},
     "output_type": "display_data"
    }
   ],
   "source": [
    "labels = [\"Y ~ X + Z\", \"Y ~ X\"]\n",
    "betas  = np.array([b, b2])\n",
    "yerr   = np.vstack([betas - np.array([lo1, lo2]),\n",
    "                    np.array([hi1, hi2]) - betas])\n",
    "\n",
    "x = np.arange(len(labels))\n",
    "\n",
    "plt.figure(figsize=(7,5))\n",
    "plt.errorbar(x, betas, yerr=yerr, fmt=\"o\", capsize=5, linewidth=2, label=\"β̂_X\")\n",
    "plt.axhline(1.0, linestyle=\"--\", linewidth=1.5, label=\"Valor verdadero β=1\")\n",
    "plt.xticks(x, labels, rotation=0)\n",
    "plt.ylabel(\"Estimación de β_X (IC 99%)\")\n",
    "plt.title(\"Coeficiente de X con y sin controlar por Z\")\n",
    "plt.grid(True, linestyle=\":\", alpha=0.6)\n",
    "plt.legend()\n",
    "plt.tight_layout()\n",
    "plt.show()"
   ]
  }
 ],
 "metadata": {
  "kernelspec": {
   "display_name": "lab2",
   "language": "python",
   "name": "python3"
  },
  "language_info": {
   "codemirror_mode": {
    "name": "ipython",
    "version": 3
   },
   "file_extension": ".py",
   "mimetype": "text/x-python",
   "name": "python",
   "nbconvert_exporter": "python",
   "pygments_lexer": "ipython3",
   "version": "3.10.18"
  }
 },
 "nbformat": 4,
 "nbformat_minor": 5
}
